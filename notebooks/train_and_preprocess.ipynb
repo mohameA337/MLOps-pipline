{
 "cells": [
  {
   "cell_type": "code",
   "execution_count": 9,
   "id": "71466fc4",
   "metadata": {},
   "outputs": [],
   "source": [
    "import torch\n",
    "import torch.nn as nn\n",
    "import torch.optim as optim\n",
    "from sklearn.model_selection import train_test_split\n",
    "from sklearn.metrics import accuracy_score\n",
    "import pandas as pd\n",
    "from sklearn.preprocessing import LabelEncoder , StandardScaler\n"
   ]
  },
  {
   "cell_type": "code",
   "execution_count": 10,
   "id": "060763fb",
   "metadata": {},
   "outputs": [],
   "source": [
    "\n",
    "df = pd.read_csv(r\"C:\\Users\\moham\\Documents\\GitHub\\MLOps-pipline\\datasets\\Titanic-Dataset.csv\")\n",
    "\n",
    "df = df[[\"Pclass\", \"Sex\", \"Age\", \"SibSp\", \"Parch\", \"Fare\", \"Embarked\", \"Survived\"]]\n",
    "df = df.dropna()\n",
    "\n",
    "df[\"Sex\"] = LabelEncoder().fit_transform(df[\"Sex\"])\n",
    "df[\"Embarked\"] = LabelEncoder().fit_transform(df[\"Embarked\"])\n",
    "\n",
    "numerical_cols = [\"Age\", \"SibSp\", \"Parch\", \"Fare\"]\n",
    "scaler = StandardScaler()\n",
    "df[numerical_cols] = scaler.fit_transform(df[numerical_cols])\n",
    "\n",
    "X = df.drop(\"Survived\", axis=1).values\n",
    "y = df[\"Survived\"].values\n",
    "\n",
    "X_train, X_test, y_train, y_test = train_test_split(\n",
    "    X, y, test_size=0.2, random_state=42)\n",
    "\n",
    "X_train = torch.tensor(X_train, dtype=torch.float32)\n",
    "y_train = torch.tensor(y_train, dtype=torch.long)\n",
    "X_test = torch.tensor(X_test, dtype=torch.float32)\n",
    "y_test = torch.tensor(y_test, dtype=torch.long)\n"
   ]
  },
  {
   "cell_type": "code",
   "execution_count": 11,
   "id": "8538112f",
   "metadata": {},
   "outputs": [],
   "source": [
    "class TitanicModel(nn.Module):\n",
    "    def __init__(self, input_size):\n",
    "        super(TitanicModel, self).__init__()\n",
    "        self.fc1 = nn.Linear(input_size, 16)\n",
    "        self.relu = nn.ReLU()\n",
    "        self.fc2 = nn.Linear(16, 2)  \n",
    "\n",
    "    def forward(self, x):\n",
    "        x = self.fc1(x)\n",
    "        x = self.relu(x)\n",
    "        x = self.fc2(x)\n",
    "        return x\n"
   ]
  },
  {
   "cell_type": "code",
   "execution_count": 12,
   "id": "48d26538",
   "metadata": {},
   "outputs": [],
   "source": [
    "model = TitanicModel(input_size=X_train.shape[1])\n"
   ]
  },
  {
   "cell_type": "code",
   "execution_count": 13,
   "id": "ddca60df",
   "metadata": {},
   "outputs": [
    {
     "name": "stdout",
     "output_type": "stream",
     "text": [
      "Epoch 10/100 | Loss: 0.6058 | Train Acc: 0.6854 | Test Acc: 0.6503\n",
      "Epoch 20/100 | Loss: 0.5428 | Train Acc: 0.7293 | Test Acc: 0.6923\n",
      "Epoch 30/100 | Loss: 0.4846 | Train Acc: 0.7680 | Test Acc: 0.7832\n",
      "Epoch 40/100 | Loss: 0.4412 | Train Acc: 0.8049 | Test Acc: 0.8182\n",
      "Epoch 50/100 | Loss: 0.4203 | Train Acc: 0.8032 | Test Acc: 0.8252\n",
      "Epoch 60/100 | Loss: 0.4109 | Train Acc: 0.8049 | Test Acc: 0.8252\n",
      "Epoch 70/100 | Loss: 0.4035 | Train Acc: 0.8155 | Test Acc: 0.8322\n",
      "Epoch 80/100 | Loss: 0.3990 | Train Acc: 0.8190 | Test Acc: 0.8182\n",
      "Epoch 90/100 | Loss: 0.3952 | Train Acc: 0.8225 | Test Acc: 0.8182\n",
      "Epoch 100/100 | Loss: 0.3918 | Train Acc: 0.8243 | Test Acc: 0.8112\n"
     ]
    }
   ],
   "source": [
    "criterion = nn.CrossEntropyLoss()\n",
    "optimizer = optim.Adam(model.parameters(), lr=0.01)\n",
    "\n",
    "epochs = 100\n",
    "for epoch in range(epochs):\n",
    "    model.train()\n",
    "    outputs = model(X_train)\n",
    "    loss = criterion(outputs, y_train)\n",
    "\n",
    "    optimizer.zero_grad()\n",
    "    loss.backward()\n",
    "    optimizer.step()\n",
    "\n",
    "    if (epoch + 1) % 10 == 0:\n",
    "        model.eval()\n",
    "        with torch.no_grad():\n",
    "            train_preds = torch.argmax(model(X_train), dim=1)\n",
    "            train_acc = accuracy_score(y_train, train_preds)\n",
    "\n",
    "            test_preds = torch.argmax(model(X_test), dim=1)\n",
    "            test_acc = accuracy_score(y_test, test_preds)\n",
    "\n",
    "        print(f\"Epoch {epoch+1}/{epochs} | Loss: {loss.item():.4f} | Train Acc: {train_acc:.4f} | Test Acc: {test_acc:.4f}\")"
   ]
  },
  {
   "cell_type": "code",
   "execution_count": 15,
   "id": "b5940466",
   "metadata": {},
   "outputs": [
    {
     "name": "stdout",
     "output_type": "stream",
     "text": [
      "Exported to model/titanic_model.onnx\n"
     ]
    }
   ],
   "source": [
    "import os\n",
    "dummy_input = torch.randn(1, X_train.shape[1])  \n",
    "\n",
    "os.makedirs(\"model\", exist_ok=True)\n",
    "torch.onnx.export(\n",
    "    model,\n",
    "    dummy_input,\n",
    "    \"model/titanic_model.onnx\",\n",
    "    input_names=[\"input\"],\n",
    "    output_names=[\"output\"],\n",
    "    do_constant_folding=True,\n",
    "    dynamic_axes={\"input\": {0: \"batch_size\"}, \"output\": {0: \"batch_size\"}},\n",
    "    opset_version=11\n",
    ")\n",
    "\n",
    "print(\"Exported to model/titanic_model.onnx\")\n"
   ]
  },
  {
   "cell_type": "code",
   "execution_count": null,
   "id": "27d9c8da",
   "metadata": {},
   "outputs": [],
   "source": []
  }
 ],
 "metadata": {
  "kernelspec": {
   "display_name": "venv",
   "language": "python",
   "name": "python3"
  },
  "language_info": {
   "codemirror_mode": {
    "name": "ipython",
    "version": 3
   },
   "file_extension": ".py",
   "mimetype": "text/x-python",
   "name": "python",
   "nbconvert_exporter": "python",
   "pygments_lexer": "ipython3",
   "version": "3.11.3"
  }
 },
 "nbformat": 4,
 "nbformat_minor": 5
}
